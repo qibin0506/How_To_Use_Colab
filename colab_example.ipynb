{
  "nbformat": 4,
  "nbformat_minor": 0,
  "metadata": {
    "colab": {
      "name": "free_gpu_from_colab.ipynb",
      "version": "0.3.2",
      "provenance": []
    },
    "kernelspec": {
      "name": "python3",
      "display_name": "Python 3"
    },
    "accelerator": "GPU"
  },
  "cells": [
    {
      "cell_type": "markdown",
      "metadata": {
        "id": "AVOEVg4KYe1c",
        "colab_type": "text"
      },
      "source": [
        "## Install PyDrive & Verify"
      ]
    },
    {
      "cell_type": "code",
      "metadata": {
        "id": "ebxqIUOsYlMQ",
        "colab_type": "code",
        "colab": {
          "base_uri": "https://localhost:8080/",
          "height": 51
        },
        "outputId": "148b3925-5e85-4854-df66-54b6b1914e7d"
      },
      "source": [
        "!pip install -U -q PyDrive\n",
        "from pydrive.auth import GoogleAuth\n",
        "from pydrive.drive import GoogleDrive\n",
        "from google.colab import auth\n",
        "from oauth2client.client import GoogleCredentials\n",
        "\n",
        "auth.authenticate_user()\n",
        "gauth = GoogleAuth()\n",
        "gauth.credentials = GoogleCredentials.get_application_default()\n",
        "drive = GoogleDrive(gauth)"
      ],
      "execution_count": 7,
      "outputs": [
        {
          "output_type": "stream",
          "text": [
            "\u001b[?25l\r\u001b[K     |▎                               | 10kB 18.6MB/s eta 0:00:01\r\u001b[K     |▋                               | 20kB 1.7MB/s eta 0:00:01\r\u001b[K     |█                               | 30kB 2.5MB/s eta 0:00:01\r\u001b[K     |█▎                              | 40kB 1.7MB/s eta 0:00:01\r\u001b[K     |█▋                              | 51kB 2.0MB/s eta 0:00:01\r\u001b[K     |██                              | 61kB 2.4MB/s eta 0:00:01\r\u001b[K     |██▎                             | 71kB 2.8MB/s eta 0:00:01\r\u001b[K     |██▋                             | 81kB 3.2MB/s eta 0:00:01\r\u001b[K     |███                             | 92kB 3.5MB/s eta 0:00:01\r\u001b[K     |███▎                            | 102kB 2.7MB/s eta 0:00:01\r\u001b[K     |███▋                            | 112kB 2.7MB/s eta 0:00:01\r\u001b[K     |████                            | 122kB 2.7MB/s eta 0:00:01\r\u001b[K     |████▎                           | 133kB 2.7MB/s eta 0:00:01\r\u001b[K     |████▋                           | 143kB 2.7MB/s eta 0:00:01\r\u001b[K     |█████                           | 153kB 2.7MB/s eta 0:00:01\r\u001b[K     |█████▎                          | 163kB 2.7MB/s eta 0:00:01\r\u001b[K     |█████▋                          | 174kB 2.7MB/s eta 0:00:01\r\u001b[K     |██████                          | 184kB 2.7MB/s eta 0:00:01\r\u001b[K     |██████▎                         | 194kB 2.7MB/s eta 0:00:01\r\u001b[K     |██████▋                         | 204kB 2.7MB/s eta 0:00:01\r\u001b[K     |███████                         | 215kB 2.7MB/s eta 0:00:01\r\u001b[K     |███████▎                        | 225kB 2.7MB/s eta 0:00:01\r\u001b[K     |███████▋                        | 235kB 2.7MB/s eta 0:00:01\r\u001b[K     |████████                        | 245kB 2.7MB/s eta 0:00:01\r\u001b[K     |████████▎                       | 256kB 2.7MB/s eta 0:00:01\r\u001b[K     |████████▋                       | 266kB 2.7MB/s eta 0:00:01\r\u001b[K     |█████████                       | 276kB 2.7MB/s eta 0:00:01\r\u001b[K     |█████████▎                      | 286kB 2.7MB/s eta 0:00:01\r\u001b[K     |█████████▋                      | 296kB 2.7MB/s eta 0:00:01\r\u001b[K     |██████████                      | 307kB 2.7MB/s eta 0:00:01\r\u001b[K     |██████████▎                     | 317kB 2.7MB/s eta 0:00:01\r\u001b[K     |██████████▋                     | 327kB 2.7MB/s eta 0:00:01\r\u001b[K     |███████████                     | 337kB 2.7MB/s eta 0:00:01\r\u001b[K     |███████████▎                    | 348kB 2.7MB/s eta 0:00:01\r\u001b[K     |███████████▋                    | 358kB 2.7MB/s eta 0:00:01\r\u001b[K     |████████████                    | 368kB 2.7MB/s eta 0:00:01\r\u001b[K     |████████████▎                   | 378kB 2.7MB/s eta 0:00:01\r\u001b[K     |████████████▋                   | 389kB 2.7MB/s eta 0:00:01\r\u001b[K     |█████████████                   | 399kB 2.7MB/s eta 0:00:01\r\u001b[K     |█████████████▎                  | 409kB 2.7MB/s eta 0:00:01\r\u001b[K     |█████████████▋                  | 419kB 2.7MB/s eta 0:00:01\r\u001b[K     |██████████████                  | 430kB 2.7MB/s eta 0:00:01\r\u001b[K     |██████████████▎                 | 440kB 2.7MB/s eta 0:00:01\r\u001b[K     |██████████████▋                 | 450kB 2.7MB/s eta 0:00:01\r\u001b[K     |███████████████                 | 460kB 2.7MB/s eta 0:00:01\r\u001b[K     |███████████████▎                | 471kB 2.7MB/s eta 0:00:01\r\u001b[K     |███████████████▋                | 481kB 2.7MB/s eta 0:00:01\r\u001b[K     |████████████████                | 491kB 2.7MB/s eta 0:00:01\r\u001b[K     |████████████████▎               | 501kB 2.7MB/s eta 0:00:01\r\u001b[K     |████████████████▋               | 512kB 2.7MB/s eta 0:00:01\r\u001b[K     |█████████████████               | 522kB 2.7MB/s eta 0:00:01\r\u001b[K     |█████████████████▎              | 532kB 2.7MB/s eta 0:00:01\r\u001b[K     |█████████████████▋              | 542kB 2.7MB/s eta 0:00:01\r\u001b[K     |██████████████████              | 552kB 2.7MB/s eta 0:00:01\r\u001b[K     |██████████████████▎             | 563kB 2.7MB/s eta 0:00:01\r\u001b[K     |██████████████████▋             | 573kB 2.7MB/s eta 0:00:01\r\u001b[K     |███████████████████             | 583kB 2.7MB/s eta 0:00:01\r\u001b[K     |███████████████████▎            | 593kB 2.7MB/s eta 0:00:01\r\u001b[K     |███████████████████▋            | 604kB 2.7MB/s eta 0:00:01\r\u001b[K     |████████████████████            | 614kB 2.7MB/s eta 0:00:01\r\u001b[K     |████████████████████▎           | 624kB 2.7MB/s eta 0:00:01\r\u001b[K     |████████████████████▋           | 634kB 2.7MB/s eta 0:00:01\r\u001b[K     |█████████████████████           | 645kB 2.7MB/s eta 0:00:01\r\u001b[K     |█████████████████████▎          | 655kB 2.7MB/s eta 0:00:01\r\u001b[K     |█████████████████████▋          | 665kB 2.7MB/s eta 0:00:01\r\u001b[K     |██████████████████████          | 675kB 2.7MB/s eta 0:00:01\r\u001b[K     |██████████████████████▎         | 686kB 2.7MB/s eta 0:00:01\r\u001b[K     |██████████████████████▋         | 696kB 2.7MB/s eta 0:00:01\r\u001b[K     |███████████████████████         | 706kB 2.7MB/s eta 0:00:01\r\u001b[K     |███████████████████████▎        | 716kB 2.7MB/s eta 0:00:01\r\u001b[K     |███████████████████████▋        | 727kB 2.7MB/s eta 0:00:01\r\u001b[K     |████████████████████████        | 737kB 2.7MB/s eta 0:00:01\r\u001b[K     |████████████████████████▎       | 747kB 2.7MB/s eta 0:00:01\r\u001b[K     |████████████████████████▋       | 757kB 2.7MB/s eta 0:00:01\r\u001b[K     |████████████████████████▉       | 768kB 2.7MB/s eta 0:00:01\r\u001b[K     |█████████████████████████▏      | 778kB 2.7MB/s eta 0:00:01\r\u001b[K     |█████████████████████████▌      | 788kB 2.7MB/s eta 0:00:01\r\u001b[K     |█████████████████████████▉      | 798kB 2.7MB/s eta 0:00:01\r\u001b[K     |██████████████████████████▏     | 808kB 2.7MB/s eta 0:00:01\r\u001b[K     |██████████████████████████▌     | 819kB 2.7MB/s eta 0:00:01\r\u001b[K     |██████████████████████████▉     | 829kB 2.7MB/s eta 0:00:01\r\u001b[K     |███████████████████████████▏    | 839kB 2.7MB/s eta 0:00:01\r\u001b[K     |███████████████████████████▌    | 849kB 2.7MB/s eta 0:00:01\r\u001b[K     |███████████████████████████▉    | 860kB 2.7MB/s eta 0:00:01\r\u001b[K     |████████████████████████████▏   | 870kB 2.7MB/s eta 0:00:01\r\u001b[K     |████████████████████████████▌   | 880kB 2.7MB/s eta 0:00:01\r\u001b[K     |████████████████████████████▉   | 890kB 2.7MB/s eta 0:00:01\r\u001b[K     |█████████████████████████████▏  | 901kB 2.7MB/s eta 0:00:01\r\u001b[K     |█████████████████████████████▌  | 911kB 2.7MB/s eta 0:00:01\r\u001b[K     |█████████████████████████████▉  | 921kB 2.7MB/s eta 0:00:01\r\u001b[K     |██████████████████████████████▏ | 931kB 2.7MB/s eta 0:00:01\r\u001b[K     |██████████████████████████████▌ | 942kB 2.7MB/s eta 0:00:01\r\u001b[K     |██████████████████████████████▉ | 952kB 2.7MB/s eta 0:00:01\r\u001b[K     |███████████████████████████████▏| 962kB 2.7MB/s eta 0:00:01\r\u001b[K     |███████████████████████████████▌| 972kB 2.7MB/s eta 0:00:01\r\u001b[K     |███████████████████████████████▉| 983kB 2.7MB/s eta 0:00:01\r\u001b[K     |████████████████████████████████| 993kB 2.7MB/s \n",
            "\u001b[?25h  Building wheel for PyDrive (setup.py) ... \u001b[?25l\u001b[?25hdone\n"
          ],
          "name": "stdout"
        }
      ]
    },
    {
      "cell_type": "code",
      "metadata": {
        "id": "Y0ZcYMmoak5a",
        "colab_type": "code",
        "colab": {}
      },
      "source": [
        ""
      ],
      "execution_count": 0,
      "outputs": []
    },
    {
      "cell_type": "markdown",
      "metadata": {
        "id": "S-uPZ-XHbGgE",
        "colab_type": "text"
      },
      "source": [
        "## Download dataset from drive"
      ]
    },
    {
      "cell_type": "code",
      "metadata": {
        "colab_type": "code",
        "id": "oAdqtd2mdxj1",
        "colab": {}
      },
      "source": [
        "download = drive.CreateFile({'id': 'YOUR_FILE_ID'})\n",
        "download.GetContentFile('self_driving_data.zip')\n",
        "\n",
        "!unzip self_driving_data.zip"
      ],
      "execution_count": 0,
      "outputs": []
    },
    {
      "cell_type": "markdown",
      "metadata": {
        "id": "4SvpdDXXeCfc",
        "colab_type": "text"
      },
      "source": [
        "## Delete __MACOSX dir & List Files"
      ]
    },
    {
      "cell_type": "code",
      "metadata": {
        "id": "is10-KTmeOfB",
        "colab_type": "code",
        "colab": {
          "base_uri": "https://localhost:8080/",
          "height": 34
        },
        "outputId": "3a4ea887-e4db-490e-9de4-9bb010e1ad97"
      },
      "source": [
        "rm -fr __MACOSX && ls"
      ],
      "execution_count": 10,
      "outputs": [
        {
          "output_type": "stream",
          "text": [
            "adc.json  data\tsample_data  self_driving_data.zip\n"
          ],
          "name": "stdout"
        }
      ]
    },
    {
      "cell_type": "code",
      "metadata": {
        "id": "-CCbyMWJhEJk",
        "colab_type": "code",
        "colab": {
          "base_uri": "https://localhost:8080/",
          "height": 34
        },
        "outputId": "98cdbe64-abd3-4cfb-d9ca-cc12280154de"
      },
      "source": [
        "!cd data && ls"
      ],
      "execution_count": 11,
      "outputs": [
        {
          "output_type": "stream",
          "text": [
            "labels_car.csv\tlabels.csv  labels_trafficLight.csv  object-dataset\n"
          ],
          "name": "stdout"
        }
      ]
    },
    {
      "cell_type": "markdown",
      "metadata": {
        "id": "_ispTaIFednS",
        "colab_type": "text"
      },
      "source": [
        "## Write Code & Flying"
      ]
    },
    {
      "cell_type": "code",
      "metadata": {
        "id": "S2Cqs09gejMC",
        "colab_type": "code",
        "colab": {}
      },
      "source": [
        "# helper\n",
        "\n",
        "import csv\n",
        "import cv2\n",
        "from sklearn.utils import shuffle\n",
        "import numpy as np\n",
        "from glob import glob\n",
        "import matplotlib.pyplot as plt\n",
        "import os\n",
        "\n",
        "deliver = 15\n",
        "origin_size = (1920, 1200)\n",
        "image_size = (int(origin_size[0] / deliver), int(origin_size[1] / deliver))\n",
        "\n",
        "\n",
        "def augment_brightness_camera_images(image):\n",
        "    result = cv2.cvtColor(image, cv2.COLOR_RGB2HSV)\n",
        "    random_bright = .25 + np.random.uniform()\n",
        "    result[:, :, 2] = result[:, :, 2] * random_bright\n",
        "    result = cv2.cvtColor(result, cv2.COLOR_HSV2RGB)\n",
        "\n",
        "    return result\n",
        "\n",
        "\n",
        "def filter_label(label):\n",
        "    csv_file = csv.reader(open(\"data/labels.csv\"))\n",
        "    out = open('data/labels_{}.csv'.format(label), 'a', newline='')\n",
        "    csv_write = csv.writer(out, dialect='excel')\n",
        "    for csv_line in csv_file:\n",
        "        csv_lines = csv_line[0].split(' ')\n",
        "        if csv_lines[6] == '\"{}\"'.format(label):\n",
        "            csv_lines[6] = csv_lines[6].replace(\"\\\"\", \"\")\n",
        "            if len(csv_lines) >= 8:\n",
        "                csv_lines[7] = csv_lines[7].replace(\"\\\"\", \"\")\n",
        "            csv_write.writerow(csv_lines)\n",
        "\n",
        "\n",
        "def filter_car():\n",
        "    filter_label(\"car\")\n",
        "\n",
        "\n",
        "def filter_tl():\n",
        "    filter_label(\"trafficLight\")\n",
        "\n",
        "\n",
        "def merge_image(img, mask, image_size=image_size):\n",
        "    img = cv2.resize(img, image_size, interpolation=cv2.INTER_CUBIC)\n",
        "\n",
        "    im = np.array(255 * mask, dtype=np.uint8)\n",
        "    im = cv2.cvtColor(im, cv2.COLOR_GRAY2RGB)\n",
        "    im[:, :, 1:3] = 0 * im[:, :, 1:2]\n",
        "\n",
        "    return cv2.addWeighted(im, 0.4, img, 1.0, 0)\n",
        "\n",
        "\n",
        "def mask_image(bb_boxes, img, color):\n",
        "    result = np.zeros_like(img[:, :, 0])\n",
        "\n",
        "    for i in range(len(bb_boxes)):\n",
        "        bb_box = bb_boxes[i]\n",
        "        result[bb_box[0]:bb_box[1], bb_box[2]:bb_box[3]] = color\n",
        "\n",
        "    result = np.reshape(result, (np.shape(result)[0], np.shape(result)[1], 1))\n",
        "\n",
        "    return result\n",
        "\n",
        "\n",
        "def get_batch(file_name):\n",
        "    data = glob(\"data/object-dataset/*.jpg\")\n",
        "\n",
        "    def get_batch_fn(batch_size):\n",
        "        csv_file = csv.reader(open(file_name))\n",
        "        csv_lines = []\n",
        "        for csv_line in csv_file:\n",
        "            csv_lines.append(csv_line)\n",
        "\n",
        "        for batch_i in range(0, len(data), batch_size):\n",
        "            origin_images = []\n",
        "            images = []\n",
        "            masked = []\n",
        "\n",
        "            for image_path in data[batch_i:batch_i+batch_size]:\n",
        "                bb_boxes = []\n",
        "                image_name = os.path.basename(image_path)\n",
        "\n",
        "                lines = [line for line in csv_lines if line[0] == image_name]\n",
        "\n",
        "                for line in lines:\n",
        "                    bb_box = [int(int(line[2]) / deliver), int(int(line[4]) / deliver),\n",
        "                              int(int(line[1]) / deliver), int(int(line[3]) / deliver)]\n",
        "                    bb_boxes.append(bb_box)\n",
        "\n",
        "                if len(bb_boxes) == 0:\n",
        "                    continue\n",
        "\n",
        "                image = cv2.imread(image_path)\n",
        "                image = cv2.cvtColor(image, cv2.COLOR_BGR2RGB)\n",
        "\n",
        "                image = cv2.resize(image, image_size, interpolation=cv2.INTER_CUBIC)\n",
        "                image_normalizer = image / 127.5 - 1.0\n",
        "\n",
        "                origin_images.append(image)\n",
        "                images.append(image_normalizer)\n",
        "\n",
        "                masked_image = mask_image(bb_boxes, image_normalizer, 1)\n",
        "                masked.append(masked_image)\n",
        "\n",
        "                aug_img = augment_brightness_camera_images(image)\n",
        "                aug_image_normalizer = aug_img / 127.5 - 1.0\n",
        "\n",
        "                origin_images.append(aug_img)\n",
        "                images.append(aug_image_normalizer)\n",
        "\n",
        "                masked_image = mask_image(bb_boxes, aug_image_normalizer, 1)\n",
        "                masked.append(masked_image)\n",
        "\n",
        "            yield shuffle(np.array(origin_images), np.array(images), np.array(masked))\n",
        "\n",
        "    return get_batch_fn"
      ],
      "execution_count": 0,
      "outputs": []
    },
    {
      "cell_type": "code",
      "metadata": {
        "id": "0nOBtvHiiAUI",
        "colab_type": "code",
        "colab": {}
      },
      "source": [
        ""
      ],
      "execution_count": 0,
      "outputs": []
    },
    {
      "cell_type": "code",
      "metadata": {
        "id": "-LwCTps8gvlZ",
        "colab_type": "code",
        "colab": {}
      },
      "source": [
        ""
      ],
      "execution_count": 0,
      "outputs": []
    },
    {
      "cell_type": "code",
      "metadata": {
        "id": "U-d4PoNxethY",
        "colab_type": "code",
        "colab": {}
      },
      "source": [
        "# unet model\n",
        "\n",
        "import tensorflow as tf\n",
        "\n",
        "\n",
        "def build_model():\n",
        "    inputs = tf.placeholder(tf.float32, shape=[None, image_size[1], image_size[0], 3])\n",
        "\n",
        "    conv_1_layer1 = tf.layers.conv2d(inputs, filters=8, kernel_size=(3, 3), padding='same', activation='relu')\n",
        "    conv_1_layer2 = tf.layers.conv2d(conv_1_layer1, filters=8, kernel_size=(3, 3), padding='same', activation='relu')\n",
        "    pool_1_layer3 = tf.layers.max_pooling2d(conv_1_layer2, pool_size=(2, 2), strides=(2, 2))\n",
        "\n",
        "    conv_2_layer1 = tf.layers.conv2d(pool_1_layer3, filters=16, kernel_size=(3, 3), padding='same', activation='relu')\n",
        "    conv_2_layer2 = tf.layers.conv2d(conv_2_layer1, filters=16, kernel_size=(3, 3), padding='same', activation='relu')\n",
        "    pool_2_layer3 = tf.layers.max_pooling2d(conv_2_layer2, pool_size=(2, 2), strides=(2, 2))\n",
        "\n",
        "    conv_3_layer1 = tf.layers.conv2d(pool_2_layer3, filters=32, kernel_size=(3, 3), padding='same', activation='relu')\n",
        "    conv_3_layer2 = tf.layers.conv2d(conv_3_layer1, filters=32, kernel_size=(3, 3), padding='same', activation='relu')\n",
        "    pool_3_layer3 = tf.layers.max_pooling2d(conv_3_layer2, pool_size=(2, 2), strides=(2, 2))\n",
        "\n",
        "    conv_4_layer1 = tf.layers.conv2d(pool_3_layer3, filters=64, kernel_size=(3, 3), padding='same', activation='relu')\n",
        "    conv_4_layer2 = tf.layers.conv2d(conv_4_layer1, filters=64, kernel_size=(3, 3), padding='same', activation='relu')\n",
        "    pool_4_layer3 = tf.layers.max_pooling2d(conv_4_layer2, pool_size=(2, 2), strides=(2, 2))\n",
        "\n",
        "    conv_5_layer1 = tf.layers.conv2d(pool_4_layer3, filters=128, kernel_size=(3, 3), padding='same', activation='relu')\n",
        "    conv_5_layer2 = tf.layers.conv2d(conv_5_layer1, filters=128, kernel_size=(3, 3), padding='same', activation='relu')\n",
        "\n",
        "    up6 = tf.layers.conv2d_transpose(conv_5_layer2, filters=64, kernel_size=(2, 2), strides=(2, 2), padding='same', activation='relu')\n",
        "    c6 = tf.concat(values=[up6, conv_4_layer2], axis=-1)\n",
        "    conv_6_layer3 = tf.layers.conv2d(c6, filters=64, kernel_size=(3, 3), padding='same', activation='relu')\n",
        "    conv_6_layer4 = tf.layers.conv2d(conv_6_layer3, filters=64, kernel_size=(3, 3), padding='same', activation='relu')\n",
        "\n",
        "    up7 = tf.layers.conv2d_transpose(conv_6_layer4, filters=32, kernel_size=(2, 2), strides=(2, 2), padding='same', activation='relu')\n",
        "    c7 = tf.concat(values=[up7, conv_3_layer2], axis=-1)\n",
        "    conv_7_layer3 = tf.layers.conv2d(c7, filters=32, kernel_size=(3, 3), padding='same', activation='relu')\n",
        "    conv_7_layer4 = tf.layers.conv2d(conv_7_layer3, filters=32, kernel_size=(3, 3), padding='same', activation='relu')\n",
        "\n",
        "    up8 = tf.layers.conv2d_transpose(conv_7_layer4, filters=16, kernel_size=(2, 2), strides=(2, 2), padding='same', activation='relu')\n",
        "    c8 = tf.concat(values=[up8, conv_2_layer2], axis=-1)\n",
        "    conv_8_layer3 = tf.layers.conv2d(c8, filters=16, kernel_size=(3, 3), padding='same', activation='relu')\n",
        "    conv_8_layer4 = tf.layers.conv2d(conv_8_layer3, filters=16, kernel_size=(3, 3), padding='same', activation='relu')\n",
        "\n",
        "    up9 = tf.layers.conv2d_transpose(conv_8_layer4, filters=8, kernel_size=(2, 2), strides=(2, 2), padding='same', activation='relu')\n",
        "    c9 = tf.concat(values=[up9, conv_1_layer2], axis=-1)\n",
        "    conv_9_layer3 = tf.layers.conv2d(c9, filters=8, kernel_size=(3, 3), padding='same', activation='relu')\n",
        "    conv_9_layer4 = tf.layers.conv2d(conv_9_layer3, filters=8, kernel_size=(3, 3), padding='same', activation='relu')\n",
        "\n",
        "    logits = tf.layers.conv2d(conv_9_layer4, filters=1, kernel_size=(1, 1), padding='same')\n",
        "    outputs = tf.nn.sigmoid(logits)\n",
        "\n",
        "    return inputs, logits, outputs\n",
        "\n"
      ],
      "execution_count": 0,
      "outputs": []
    },
    {
      "cell_type": "code",
      "metadata": {
        "id": "lJi4P1IhiBEq",
        "colab_type": "code",
        "colab": {}
      },
      "source": [
        ""
      ],
      "execution_count": 0,
      "outputs": []
    },
    {
      "cell_type": "code",
      "metadata": {
        "id": "vZVgbr47gwAl",
        "colab_type": "code",
        "colab": {}
      },
      "source": [
        ""
      ],
      "execution_count": 0,
      "outputs": []
    },
    {
      "cell_type": "code",
      "metadata": {
        "id": "iOXr92qHe3p-",
        "colab_type": "code",
        "colab": {
          "base_uri": "https://localhost:8080/",
          "height": 6735
        },
        "outputId": "066879e9-8b3f-4c73-ff3d-19258b7576f3"
      },
      "source": [
        "# train unet model\n",
        "\n",
        "import tensorflow as tf\n",
        "import os\n",
        "from tensorflow.python.client import device_lib\n",
        "\n",
        "os.environ[\"TF_CPP_MIN_LOG_LEVEL\"] = \"99\"\n",
        "print(device_lib.list_local_devices())\n",
        "\n",
        "batch_size = 512\n",
        "epochs = 200\n",
        "\n",
        "\n",
        "def iou(y_pred, y_true):\n",
        "    H, W, _ = y_pred.get_shape().as_list()[1:]\n",
        "\n",
        "    pred_flat = tf.reshape(y_pred, [-1, H * W])\n",
        "    true_flat = tf.reshape(y_true, [-1, H * W])\n",
        "\n",
        "    intersection = 2 * tf.reduce_sum(pred_flat * true_flat, axis=1) + 1e-7\n",
        "    denominator = tf.reduce_sum(\n",
        "        pred_flat, axis=1) + tf.reduce_sum(\n",
        "            true_flat, axis=1) + 1e-7\n",
        "\n",
        "    return tf.reduce_mean(intersection / denominator)\n",
        "\n",
        "\n",
        "def iou_loss(y_pred, y_true):\n",
        "    return -iou(y_pred, y_true)\n",
        "\n",
        "\n",
        "inputs, logits, outputs = build_model()\n",
        "labels = tf.placeholder(tf.float32, shape=(None, image_size[1], image_size[0], 1))\n",
        "\n",
        "# loss = tf.reduce_mean(tf.nn.sigmoid_cross_entropy_with_logits(logits=logits, labels=labels))\n",
        "loss = iou_loss(outputs, labels)\n",
        "optimizer = tf.train.AdamOptimizer(learning_rate=0.0001).minimize(loss)\n",
        "\n",
        "batch_fn = get_batch(\"data/labels_car.csv\")\n",
        "\n",
        "saver = tf.train.Saver()\n",
        "\n",
        "with tf.Session() as sess:\n",
        "    sess.run(tf.global_variables_initializer())\n",
        "    for epoch in range(epochs):\n",
        "        print(\"epoch:{}/{}\".format(epoch, epochs))\n",
        "\n",
        "        for _, im, lb in batch_fn(batch_size):\n",
        "            _, loss_value = sess.run([optimizer, loss], feed_dict={inputs: im, labels: lb})\n",
        "            print(\"loss:{}\".format(loss_value))\n",
        "\n",
        "        saver.save(sess, \"result/check_point_{}.ckpt\".format(epoch))\n",
        "        print(\"save check point {}\".format(epoch))\n",
        "\n"
      ],
      "execution_count": 0,
      "outputs": [
        {
          "output_type": "stream",
          "text": [
            "[name: \"/device:CPU:0\"\n",
            "device_type: \"CPU\"\n",
            "memory_limit: 268435456\n",
            "locality {\n",
            "}\n",
            "incarnation: 14906923346909726069\n",
            ", name: \"/device:XLA_CPU:0\"\n",
            "device_type: \"XLA_CPU\"\n",
            "memory_limit: 17179869184\n",
            "locality {\n",
            "}\n",
            "incarnation: 2606429132171298281\n",
            "physical_device_desc: \"device: XLA_CPU device\"\n",
            ", name: \"/device:XLA_GPU:0\"\n",
            "device_type: \"XLA_GPU\"\n",
            "memory_limit: 17179869184\n",
            "locality {\n",
            "}\n",
            "incarnation: 6381673875727344767\n",
            "physical_device_desc: \"device: XLA_GPU device\"\n",
            ", name: \"/device:GPU:0\"\n",
            "device_type: \"GPU\"\n",
            "memory_limit: 11276946637\n",
            "locality {\n",
            "  bus_id: 1\n",
            "  links {\n",
            "  }\n",
            "}\n",
            "incarnation: 7617718501660930686\n",
            "physical_device_desc: \"device: 0, name: Tesla K80, pci bus id: 0000:00:04.0, compute capability: 3.7\"\n",
            "]\n",
            "epoch:0/200\n",
            "loss:-0.10577987134456635\n",
            "loss:-0.10439885407686234\n",
            "loss:-0.0925341546535492\n",
            "loss:-0.10404960811138153\n",
            "loss:-0.09765829145908356\n",
            "loss:-0.0945257917046547\n",
            "loss:-0.09531645476818085\n",
            "loss:-0.09741801768541336\n",
            "loss:-0.09682949632406235\n",
            "loss:-0.10026245564222336\n",
            "loss:-0.09767024964094162\n",
            "loss:-0.09958218783140182\n",
            "loss:-0.10374145209789276\n",
            "loss:-0.10309068113565445\n",
            "loss:-0.10866309702396393\n",
            "loss:-0.09882872551679611\n",
            "loss:-0.09788454324007034\n",
            "loss:-0.11009079217910767\n",
            "loss:-0.09292364865541458\n",
            "loss:-0.10353142023086548\n",
            "loss:-0.10266701132059097\n",
            "loss:-0.10329602658748627\n",
            "loss:-0.10797087103128433\n",
            "loss:-0.09452227503061295\n",
            "loss:-0.10543575137853622\n",
            "loss:-0.10399377346038818\n",
            "loss:-0.10307333618402481\n",
            "loss:-0.11028387397527695\n",
            "loss:-0.11118466407060623\n",
            "loss:-0.10011466592550278\n",
            "save check point 0\n"],
          "name": "stdout"
        }
      ]
    },
    {
      "cell_type": "code",
      "metadata": {
        "id": "L8PYAPPqkN_b",
        "colab_type": "code",
        "colab": {}
      },
      "source": [
        ""
      ],
      "execution_count": 0,
      "outputs": []
    }
  ]
}